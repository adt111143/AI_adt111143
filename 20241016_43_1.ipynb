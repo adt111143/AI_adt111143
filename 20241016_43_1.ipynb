{
 "cells": [
  {
   "cell_type": "code",
   "execution_count": 12,
   "id": "bdfd5cb5",
   "metadata": {},
   "outputs": [
    {
     "name": "stdout",
     "output_type": "stream",
     "text": [
      "關鍵字 '臺中' 在網頁中出現了 4 次。\n"
     ]
    }
   ],
   "source": [
    "import requests\n",
    "from bs4 import BeautifulSoup\n",
    "url='https://2023ntcu.ntcu.edu.tw/'\n",
    "headers = {'User-Agent': 'Mozilla/5.0 (Windows NT 10.0; Win64; x64) AppleWebKit/537.36 (KHTML, like Gecko) Chrome/91.0.4472.124 Safari/537.36'}\n",
    "html = requests.get(url, headers=headers)\n",
    "html.encoding=\"utf-8\"\n",
    "\n",
    "keyword=\"臺中\"\n",
    "soup = BeautifulSoup(html.text, 'html.parser')\n",
    "print(f\"關鍵字 '{keyword}' 在網頁中出現了\",soup.text.count(keyword),\"次。\")"
   ]
  },
  {
   "cell_type": "code",
   "execution_count": null,
   "id": "bc52398c",
   "metadata": {},
   "outputs": [],
   "source": []
  }
 ],
 "metadata": {
  "kernelspec": {
   "display_name": "Python 3 (ipykernel)",
   "language": "python",
   "name": "python3"
  },
  "language_info": {
   "codemirror_mode": {
    "name": "ipython",
    "version": 3
   },
   "file_extension": ".py",
   "mimetype": "text/x-python",
   "name": "python",
   "nbconvert_exporter": "python",
   "pygments_lexer": "ipython3",
   "version": "3.7.16"
  }
 },
 "nbformat": 4,
 "nbformat_minor": 5
}
